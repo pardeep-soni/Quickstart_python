{
 "cells": [
  {
   "cell_type": "markdown",
   "metadata": {},
   "source": [
    "# Create a tuple which contains the names of 4 students.\n",
    "# Print all the elements of the tuple using a loop."
   ]
  },
  {
   "cell_type": "code",
   "execution_count": 4,
   "metadata": {},
   "outputs": [
    {
     "name": "stdout",
     "output_type": "stream",
     "text": [
      "ram\n",
      "sita\n",
      "lakshman\n",
      "hanuman\n"
     ]
    }
   ],
   "source": [
    "names = (\"ram\",\"sita\",\"lakshman\",\"hanuman\")\n",
    "for name in names:\n",
    "    print(name)\n"
   ]
  },
  {
   "cell_type": "markdown",
   "metadata": {},
   "source": [
    "# Find out the length of the tuple."
   ]
  },
  {
   "cell_type": "code",
   "execution_count": 5,
   "metadata": {},
   "outputs": [
    {
     "name": "stdout",
     "output_type": "stream",
     "text": [
      "4\n"
     ]
    }
   ],
   "source": [
    "print(len(names))"
   ]
  },
  {
   "cell_type": "markdown",
   "metadata": {},
   "source": [
    "# Append/Insert the name of another student. Check whether it is possible or not."
   ]
  },
  {
   "cell_type": "code",
   "execution_count": 7,
   "metadata": {},
   "outputs": [
    {
     "name": "stdout",
     "output_type": "stream",
     "text": [
      "('ram', 'sita', 'lakshman', 'hanuman')\n"
     ]
    },
    {
     "ename": "AttributeError",
     "evalue": "'tuple' object has no attribute 'append'",
     "output_type": "error",
     "traceback": [
      "\u001b[1;31m---------------------------------------------------------------------------\u001b[0m",
      "\u001b[1;31mAttributeError\u001b[0m                            Traceback (most recent call last)",
      "\u001b[1;32m<ipython-input-7-a0836d49802b>\u001b[0m in \u001b[0;36m<module>\u001b[1;34m\u001b[0m\n\u001b[0;32m      1\u001b[0m \u001b[0mprint\u001b[0m\u001b[1;33m(\u001b[0m\u001b[0mnames\u001b[0m\u001b[1;33m)\u001b[0m\u001b[1;33m\u001b[0m\u001b[1;33m\u001b[0m\u001b[0m\n\u001b[1;32m----> 2\u001b[1;33m \u001b[0mnames\u001b[0m\u001b[1;33m.\u001b[0m\u001b[0mappend\u001b[0m\u001b[1;33m(\u001b[0m\u001b[1;34m\"bharat\"\u001b[0m\u001b[1;33m)\u001b[0m\u001b[1;33m\u001b[0m\u001b[1;33m\u001b[0m\u001b[0m\n\u001b[0m",
      "\u001b[1;31mAttributeError\u001b[0m: 'tuple' object has no attribute 'append'"
     ]
    }
   ],
   "source": [
    "print(names)\n",
    "names.append(\"bharat\")"
   ]
  },
  {
   "cell_type": "markdown",
   "metadata": {},
   "source": [
    "# we can't append into a tuple"
   ]
  },
  {
   "cell_type": "markdown",
   "metadata": {},
   "source": [
    "# Remove the name of 3rd student."
   ]
  },
  {
   "cell_type": "code",
   "execution_count": 11,
   "metadata": {},
   "outputs": [
    {
     "name": "stdout",
     "output_type": "stream",
     "text": [
      "('ram', 'sita', 'lakshman', 'hanuman')\n"
     ]
    },
    {
     "ename": "AttributeError",
     "evalue": "'tuple' object has no attribute 'remove'",
     "output_type": "error",
     "traceback": [
      "\u001b[1;31m---------------------------------------------------------------------------\u001b[0m",
      "\u001b[1;31mAttributeError\u001b[0m                            Traceback (most recent call last)",
      "\u001b[1;32m<ipython-input-11-5064817adc53>\u001b[0m in \u001b[0;36m<module>\u001b[1;34m\u001b[0m\n\u001b[0;32m      1\u001b[0m \u001b[0mprint\u001b[0m\u001b[1;33m(\u001b[0m\u001b[0mnames\u001b[0m\u001b[1;33m)\u001b[0m\u001b[1;33m\u001b[0m\u001b[1;33m\u001b[0m\u001b[0m\n\u001b[1;32m----> 2\u001b[1;33m \u001b[0mnames2\u001b[0m \u001b[1;33m=\u001b[0m \u001b[0mnames\u001b[0m\u001b[1;33m.\u001b[0m\u001b[0mremove\u001b[0m\u001b[1;33m(\u001b[0m\u001b[1;34m\"sita\"\u001b[0m\u001b[1;33m)\u001b[0m\u001b[1;33m\u001b[0m\u001b[1;33m\u001b[0m\u001b[0m\n\u001b[0m",
      "\u001b[1;31mAttributeError\u001b[0m: 'tuple' object has no attribute 'remove'"
     ]
    }
   ],
   "source": [
    "print(names)\n",
    "names2 = names.remove(\"sita\")"
   ]
  },
  {
   "cell_type": "markdown",
   "metadata": {},
   "source": [
    "# we can't remove a element from a tuple"
   ]
  },
  {
   "cell_type": "markdown",
   "metadata": {},
   "source": [
    "# Delete the entire tuple."
   ]
  },
  {
   "cell_type": "code",
   "execution_count": 12,
   "metadata": {},
   "outputs": [
    {
     "name": "stdout",
     "output_type": "stream",
     "text": [
      "('ram', 'sita', 'lakshman', 'hanuman')\n"
     ]
    },
    {
     "ename": "NameError",
     "evalue": "name 'names' is not defined",
     "output_type": "error",
     "traceback": [
      "\u001b[1;31m---------------------------------------------------------------------------\u001b[0m",
      "\u001b[1;31mNameError\u001b[0m                                 Traceback (most recent call last)",
      "\u001b[1;32m<ipython-input-12-3314f5640ec4>\u001b[0m in \u001b[0;36m<module>\u001b[1;34m\u001b[0m\n\u001b[0;32m      1\u001b[0m \u001b[0mprint\u001b[0m\u001b[1;33m(\u001b[0m\u001b[0mnames\u001b[0m\u001b[1;33m)\u001b[0m\u001b[1;33m\u001b[0m\u001b[1;33m\u001b[0m\u001b[0m\n\u001b[0;32m      2\u001b[0m \u001b[1;32mdel\u001b[0m \u001b[0mnames\u001b[0m\u001b[1;33m\u001b[0m\u001b[1;33m\u001b[0m\u001b[0m\n\u001b[1;32m----> 3\u001b[1;33m \u001b[0mprint\u001b[0m\u001b[1;33m(\u001b[0m\u001b[0mnames\u001b[0m\u001b[1;33m)\u001b[0m\u001b[1;33m\u001b[0m\u001b[1;33m\u001b[0m\u001b[0m\n\u001b[0m",
      "\u001b[1;31mNameError\u001b[0m: name 'names' is not defined"
     ]
    }
   ],
   "source": [
    "print(names)\n",
    "del names\n",
    "print(names)"
   ]
  },
  {
   "cell_type": "markdown",
   "metadata": {},
   "source": [
    "# Find out all the possible operations on tuples using “dir”."
   ]
  },
  {
   "cell_type": "code",
   "execution_count": 13,
   "metadata": {},
   "outputs": [
    {
     "data": {
      "text/plain": [
       "['__add__',\n",
       " '__class__',\n",
       " '__contains__',\n",
       " '__delattr__',\n",
       " '__dir__',\n",
       " '__doc__',\n",
       " '__eq__',\n",
       " '__format__',\n",
       " '__ge__',\n",
       " '__getattribute__',\n",
       " '__getitem__',\n",
       " '__getnewargs__',\n",
       " '__gt__',\n",
       " '__hash__',\n",
       " '__init__',\n",
       " '__init_subclass__',\n",
       " '__iter__',\n",
       " '__le__',\n",
       " '__len__',\n",
       " '__lt__',\n",
       " '__mul__',\n",
       " '__ne__',\n",
       " '__new__',\n",
       " '__reduce__',\n",
       " '__reduce_ex__',\n",
       " '__repr__',\n",
       " '__rmul__',\n",
       " '__setattr__',\n",
       " '__sizeof__',\n",
       " '__str__',\n",
       " '__subclasshook__',\n",
       " 'count',\n",
       " 'index']"
      ]
     },
     "execution_count": 13,
     "metadata": {},
     "output_type": "execute_result"
    }
   ],
   "source": [
    "dir(tuple)"
   ]
  },
  {
   "cell_type": "markdown",
   "metadata": {},
   "source": [
    "# 2. Three users have rated four books. The following table contains USERID, BOOKID and RATING. Create a tuple which can store the entire data. Find out which book is most popular. \n",
    "Note: Find out the average rating of all the books and the book which has highest average rating will be treated as the most popular book.\n",
    "1, 101, 5.0\n",
    "1, 102, 3.0\n",
    "1, 103, 2.5\n",
    "\n",
    "2, 101, 2.0\n",
    "2, 102, 2.5\n",
    "2, 103, 5.0\n",
    "2, 104, 2.0\n",
    "\n",
    "3, 101, 2.5\n",
    "3, 102, 4.0\n",
    "3, 103, 4.5\n",
    "3, 104, 5.0\n"
   ]
  },
  {
   "cell_type": "code",
   "execution_count": 3,
   "metadata": {},
   "outputs": [
    {
     "name": "stdout",
     "output_type": "stream",
     "text": [
      "Avg rating of Book 101: 1.6666666666666667\n",
      "Avg rating of Book 102: 1.0\n",
      "Avg rating of Book 103: 0.8333333333333334\n",
      "Avg rating of Book 104: 1.0\n",
      "Popular Book id is 101 & rating is: 1.6666666666666667\n"
     ]
    }
   ],
   "source": [
    "bookdetails=((1,101,5.0),(1,102,3.0),(1,103,2.5),\n",
    " (2,101,2.0),(2,102,2.5),(2,103,5.0),(2,104,2.0),\n",
    " (3,101,2.5),(3,102,4.0),(3,103,4.5),(3,104,5.0))\n",
    "def book_101():\n",
    "    l=[]\n",
    "    sum=0\n",
    "    l.append(bookdetails[0:3][0])\n",
    "    l.append(bookdetails[3:7][0])\n",
    "    l.append(bookdetails[7:11][0])\n",
    "    for x in l:\n",
    "        for y in x[2:3]:\n",
    "            sum=sum+y\n",
    "            avg=sum/3\n",
    "        return avg\n",
    "print(\"Avg rating of Book 101:\",book_101())\n",
    "def book_102():\n",
    "    l=[]\n",
    "    sum=0\n",
    "    l.append(bookdetails[0:3][1])\n",
    "    l.append(bookdetails[3:7][1])\n",
    "    l.append(bookdetails[7:11][1])\n",
    "    for x in l:\n",
    "        for y in x[2:3]:\n",
    "            sum=sum+y\n",
    "            avg=sum/3\n",
    "        return avg\n",
    "print(\"Avg rating of Book 102:\",book_102())\n",
    "def book_103():\n",
    "    l =[]\n",
    "    sum=0\n",
    "    l.append(bookdetails[0:3][2])\n",
    "    l.append(bookdetails[3:7][2])\n",
    "    l.append(bookdetails[7:11][2])\n",
    "    for x in l:\n",
    "        for y in x[2:3]:\n",
    "            sum=sum+y\n",
    "            avg=sum/3\n",
    "        return avg\n",
    "print(\"Avg rating of Book 103:\",book_103())\n",
    "def book_104():\n",
    "    l=[]\n",
    "    sum=0\n",
    "    l.append(bookdetails[3:7][3])\n",
    "    l.append(bookdetails[7:11][3])\n",
    "    for x in l:\n",
    "        for y in x[2:3]:\n",
    "            sum=sum+y\n",
    "            avg=sum/2\n",
    "        return avg\n",
    "print(\"Avg rating of Book 104:\",book_104())\n",
    "if(book_101()>book_102() or book_101()>book_103() or\n",
    "book_101()>book_104()):\n",
    "    print(\"Popular Book id is 101 & rating is:\",book_101())\n",
    "elif(book_102()>book_101() or book_102()>book_103() or\n",
    "book_102()>book_104()):\n",
    "    print(\"Popular Book id is 102 & rating is:\",book_102())\n",
    "elif(book_103()>book_101() or book_103()>book_102() or\n",
    "book_103()>book_104()):\n",
    "    print(\"Popular Book id is 103 & rating is:\",book_103())\n",
    "else:\n",
    "    print(\"Popular Book id is 104 & rating is:\",book_104())\n"
   ]
  },
  {
   "cell_type": "markdown",
   "metadata": {},
   "source": [
    "# Write a program to create two dictionaries and merge them into a single dictionary."
   ]
  },
  {
   "cell_type": "code",
   "execution_count": 3,
   "metadata": {},
   "outputs": [
    {
     "name": "stdout",
     "output_type": "stream",
     "text": [
      "{'one': 1, 'two': 2, 'three': 3, 'four': 4, 'five': 5, 'six': 6}\n"
     ]
    }
   ],
   "source": [
    "# Dictonaries\n",
    "def Merge(d1, d2):\n",
    "    res = {**d1, **d2}\n",
    "    return res\n",
    "\n",
    "d1 = {'one':1, 'two':2, 'three':3,}\n",
    "d2 = {'four':4, 'five':5, 'six':6,}\n",
    "d3 = Merge(d1, d2)\n",
    "print(d3)"
   ]
  },
  {
   "cell_type": "markdown",
   "metadata": {},
   "source": [
    "# Given a dictionary of students and their favorite colors:\n",
    " # people = {'Arham':'Blue','Lisa':'Yellow',''Vinod:'Purple','Jenny':'Pink'}\n",
    "Find out how many students are in the dictionary\n"
   ]
  },
  {
   "cell_type": "code",
   "execution_count": 6,
   "metadata": {},
   "outputs": [
    {
     "data": {
      "text/plain": [
       "4"
      ]
     },
     "execution_count": 6,
     "metadata": {},
     "output_type": "execute_result"
    }
   ],
   "source": [
    "people = {'Arham':'Blue','Lisa':'Yellow','Vinod':'Purple','Jenny':'Pink'}\n",
    "len(people)"
   ]
  },
  {
   "cell_type": "markdown",
   "metadata": {},
   "source": [
    "## \tChange Lisa’s favourite colour"
   ]
  },
  {
   "cell_type": "code",
   "execution_count": 9,
   "metadata": {},
   "outputs": [
    {
     "name": "stdout",
     "output_type": "stream",
     "text": [
      "{'Arham': 'Blue', 'Lisa': 'Black', 'Vinod': 'Purple', 'Jenny': 'Pink'}\n"
     ]
    }
   ],
   "source": [
    "people = {'Arham':'Blue','Lisa':'Yellow','Vinod':'Purple','Jenny':'Pink'}\n",
    "people.update(Lisa='Black')\n",
    "print(people)"
   ]
  },
  {
   "cell_type": "markdown",
   "metadata": {},
   "source": [
    "## Remove 'Jenny' and her favourite colour"
   ]
  },
  {
   "cell_type": "code",
   "execution_count": 14,
   "metadata": {},
   "outputs": [
    {
     "name": "stdout",
     "output_type": "stream",
     "text": [
      "{'Arham': 'Blue', 'Lisa': 'Yellow', 'Vinod': 'Purple'}\n"
     ]
    }
   ],
   "source": [
    "people = {'Arham':'Blue','Lisa':'Yellow','Vinod':'Purple','Jenny':'Pink'}\n",
    "people.pop('Jenny')\n",
    "print(people)"
   ]
  },
  {
   "cell_type": "markdown",
   "metadata": {},
   "source": [
    "## Sort and print students and their favourite colours alphabetically by name"
   ]
  },
  {
   "cell_type": "code",
   "execution_count": 15,
   "metadata": {},
   "outputs": [
    {
     "name": "stdout",
     "output_type": "stream",
     "text": [
      "('Arham', 'Blue') ('Jenny', 'Pink') ('Lisa', 'Yellow') ('Vinod', 'Purple') "
     ]
    }
   ],
   "source": [
    "people = {'Arham':'Blue','Lisa':'Yellow','Vinod':'Purple','Jenny':'Pink'}\n",
    "for i in sorted (people) : \n",
    "    print ((i, people[i]), end =\" \")"
   ]
  },
  {
   "cell_type": "markdown",
   "metadata": {},
   "source": [
    "# Write a program that takes a string as input and builds a frequency listing of the characters contained in it. Represent the frequency listing as a Python dictionary."
   ]
  },
  {
   "cell_type": "code",
   "execution_count": 26,
   "metadata": {},
   "outputs": [
    {
     "name": "stdout",
     "output_type": "stream",
     "text": [
      "{'L': 1, 'e': 2, 'a': 1, 'd': 1, 'r': 1}\n"
     ]
    }
   ],
   "source": [
    "test_str = \"Leader\"\n",
    "\n",
    "res = {} \n",
    "  \n",
    "for keys in test_str: \n",
    "    res[keys] = res.get(keys, 0) + 1\n",
    "print (str(res)) "
   ]
  },
  {
   "cell_type": "markdown",
   "metadata": {},
   "source": [
    "# A simple German to English dictionary is given below. Write a program to translate the German sentence “\"vom eise befreit sind strom und baeche\"” to English.\n",
    "German_Dict = {\"befreit\":\"liberated\", \"baeche\":\"brooks\", \"eise\":\"ice\", \"sind\":\"are\", \"strom\":\"river\", \"und\":\"and\", \"vom\":\"from\"}\n"
   ]
  },
  {
   "cell_type": "code",
   "execution_count": 36,
   "metadata": {},
   "outputs": [
    {
     "name": "stdout",
     "output_type": "stream",
     "text": [
      "{'befreit': 'liberated', 'baeche': 'brooks', 'eise': 'ice', 'sind': 'are', 'strom': 'river', 'und': 'and', 'vom': 'from'}\n",
      "vom eise befreit sind strom und baeche\n",
      "from ice liberated are river and brooks\n"
     ]
    }
   ],
   "source": [
    "German_Dict = {\"befreit\":\"liberated\", \"baeche\":\"brooks\", \"eise\":\"ice\", \"sind\":\"are\", \"strom\":\"river\", \"und\":\"and\", \"vom\":\"from\"}\n",
    "print(German_Dict)\n",
    "phrase = \"vom eise befreit sind strom und baeche\"\n",
    "print(phrase)\n",
    "\n",
    "translated = \" \".join([German_Dict.get(p, p) for p in phrase.split(' ')])\n",
    "print(translated)"
   ]
  },
  {
   "cell_type": "markdown",
   "metadata": {},
   "source": [
    "# Define a function overlapping() that takes two lists and returns True if they have at least one member in common, False otherwise."
   ]
  },
  {
   "cell_type": "code",
   "execution_count": 4,
   "metadata": {},
   "outputs": [
    {
     "name": "stdout",
     "output_type": "stream",
     "text": [
      "True\n",
      "None\n"
     ]
    }
   ],
   "source": [
    "def common_data(list1, list2):\n",
    "    result = False\n",
    "    for x in list1:\n",
    "        for y in list2:\n",
    "            if x == y:\n",
    "                result = True\n",
    "                return result\n",
    "print(common_data([1,2,3,4,5], [5,6,7,8,9]))\n",
    "print(common_data([1,2,3,4], [5,6,7,8]))\n"
   ]
  },
  {
   "cell_type": "markdown",
   "metadata": {},
   "source": [
    "# Write a function find_longest_word() that takes a list of words and returns the length of the longest one."
   ]
  },
  {
   "cell_type": "code",
   "execution_count": null,
   "metadata": {},
   "outputs": [],
   "source": [
    "def find_longest_word(words_list):\n",
    "    word_len = []\n",
    "    for n in words_list:\n",
    "        word_len.append((len(n), n))\n",
    "        word_len.sort()\n",
    "    return word_len[-1][1]\n",
    "\n",
    "print(find_longest_word([\"PHP\", \"Exercises\", \"Backend\"]))\n"
   ]
  },
  {
   "cell_type": "markdown",
   "metadata": {},
   "source": [
    "# In English, present participle is formed by adding suffix -ing to infinite form: go  going. A simple set of heuristic rules can be given as follows:\n",
    " #If the verb ends in e, drop the e and add ing (if not exception: be, see, flee, knee, etc.)\n",
    "\n",
    "\tIf the verb ends in ie, change ie to y and add ing\n",
    "\tFor words consisting of consonant-vowel-consonant, double the final letter before adding ing\n",
    "\tBy default just add ing\n",
    "\n",
    "Your task in this exercise is to define a function make_ing_form( ) which given a verb in infinitive form returns its present participle form. Test your function with words such as lie, see, move and hug.\n"
   ]
  },
  {
   "cell_type": "code",
   "execution_count": 6,
   "metadata": {},
   "outputs": [
    {
     "name": "stdout",
     "output_type": "stream",
     "text": [
      "being\n",
      "fleeing\n",
      "seeing\n",
      "kneeing\n",
      "huging\n"
     ]
    }
   ],
   "source": [
    "def make_ing_form(verb):\n",
    "    if verb.endswith('ie'):\n",
    "        return verb[:-2] + 'ying'\n",
    "    elif verb.endswith('e') and (verb[-2].endswith('e') or len(verb) == 2):\n",
    "        return verb + 'ing'\n",
    "    elif verb.endswith('e'):\n",
    "        return verb[:-1] + 'ing'\n",
    "    \n",
    "    else:\n",
    "        return verb + 'ing'\n",
    "\n",
    "\n",
    "if __name__ == \"__main__\":\n",
    "    print (make_ing_form('be'))\n",
    "    print (make_ing_form('flee'))\n",
    "    print (make_ing_form('see'))\n",
    "    print (make_ing_form('knee'))\n",
    "    print (make_ing_form('hug'))\n"
   ]
  },
  {
   "cell_type": "markdown",
   "metadata": {},
   "source": [
    "# Write a Python function called reduce whitespace that is given a line read from a text file and returns the line with all extra whitespace characters between words removed.\n",
    "\n",
    "‘This line      has extra space        characters’ ➝ ‘This line has extra space characters’\n"
   ]
  },
  {
   "cell_type": "code",
   "execution_count": 7,
   "metadata": {},
   "outputs": [
    {
     "name": "stdout",
     "output_type": "stream",
     "text": [
      "This line has extra space characters\n"
     ]
    }
   ],
   "source": [
    "def remove(data): \n",
    "    return \" \".join(data.split()) \n",
    "      \n",
    "data = 'This line      has extra space        characters'\n",
    "for line in data:\n",
    "    line = remove(data)\n",
    "print(line)"
   ]
  },
  {
   "cell_type": "markdown",
   "metadata": {},
   "source": [
    "# Write a Python function named “checkQuotes” that is given a line read from a text file and returns True if each quote characters in the line has a matching quote (of the same type), otherwise returns False."
   ]
  },
  {
   "cell_type": "code",
   "execution_count": 2,
   "metadata": {},
   "outputs": [
    {
     "name": "stdout",
     "output_type": "stream",
     "text": [
      "True\n"
     ]
    }
   ],
   "source": [
    "def checkQuotes(data,string):\n",
    "    line1=string.split()\n",
    "    line2=string.split()\n",
    "    if(line1==line2):\n",
    "        return True\n",
    "    else:\n",
    "        return False\n",
    "reader = open('fh.txt','r')\n",
    "string=\"today's high temperature will be 75 degrees\"\n",
    "data=reader.read()\n",
    "for line in data:\n",
    "    line=checkQuotes(data,string)\n",
    "reader.close()\n",
    "print(line)"
   ]
  },
  {
   "cell_type": "markdown",
   "metadata": {},
   "source": [
    "# Case Study: A movie rating data set which provides movie ratings, movie metadata (genres and year), and demographic data about the users (age, zip code, gender, and occupation) is given. Write a program to find out the rating disagreement between men and women.\n",
    "\n",
    "We need to find the movies that are most divisive between male and female viewers. One way is to add a column to mean_ratings containing the difference in means, then sort by that. Sorting by 'diff' gives us the movies with the greatest rating difference and which were preferred by women.\n"
   ]
  },
  {
   "cell_type": "code",
   "execution_count": 10,
   "metadata": {},
   "outputs": [
    {
     "name": "stdout",
     "output_type": "stream",
     "text": [
      "Mean ratings based on gender on movies: \n",
      "gender                                             F         M\n",
      "title                                                         \n",
      "$1,000,000 Duck (1971)                      3.375000  2.761905\n",
      "'Night Mother (1986)                        3.388889  3.352941\n",
      "'Til There Was You (1997)                   2.675676  2.733333\n",
      "'burbs, The (1989)                          2.793478  2.962085\n",
      "...And Justice for All (1979)               3.828571  3.689024\n",
      "...                                              ...       ...\n",
      "Zed & Two Noughts, A (1985)                 3.500000  3.380952\n",
      "Zero Effect (1998)                          3.864407  3.723140\n",
      "Zero Kelvin (Kjærlighetens kjøtere) (1995)       NaN  3.500000\n",
      "Zeus and Roxanne (1997)                     2.777778  2.357143\n",
      "eXistenZ (1999)                             3.098592  3.289086\n",
      "\n",
      "[3706 rows x 2 columns]\n",
      "Sorting by difference and reversing the list will give the movies which are preffered by women\n",
      "gender                                       F         M  diff\n",
      "title                                                         \n",
      "Zero Kelvin (Kjærlighetens kjøtere) (1995) NaN  3.500000   NaN\n",
      "Zachariah (1971)                           NaN  3.500000   NaN\n",
      "Year of the Horse (1997)                   NaN  3.250000   NaN\n",
      "Wooden Man's Bride, The (Wu Kui) (1994)    NaN  3.000000   NaN\n",
      "With Friends Like These... (1998)          NaN  4.000000   NaN\n",
      "With Byrd at the South Pole (1930)         NaN  2.000000   NaN\n",
      "Wings of Courage (1995)                    NaN  3.000000   NaN\n",
      "Windows (1980)                             NaN  1.000000   NaN\n",
      "Wild Bill (1995)                           NaN  3.146341   NaN\n",
      "White Boys (1999)                          NaN  1.000000   NaN\n"
     ]
    }
   ],
   "source": [
    "import pandas as pd\n",
    "\n",
    "pd.options.display.max_rows = 10\n",
    "unames = ['user_id', 'gender', 'age', 'occupation', 'zip']\n",
    "users = pd.read_table(r'C:\\Users\\parde\\Documents\\ml-1m\\\\users.dat',sep='::',header=None,  names=unames, engine='python')\n",
    "rnames = ['user_id', 'movie_id', 'rating', 'timestamp']\n",
    "ratings = pd.read_table(r'C:\\Users\\parde\\Documents\\ml-1m\\\\ratings.dat', sep='::',header=None, names=rnames, engine='python')\n",
    "mnames = ['movie_id', 'title', 'genres']\n",
    "movies = pd.read_table(r'C:\\Users\\parde\\Documents\\ml-1m\\\\movies.dat', sep='::',header=None, names=mnames, engine='python')\n",
    "data = pd.merge(pd.merge(ratings, users), movies)\n",
    "mean_ratings = data.pivot_table('rating', index='title', columns='gender', aggfunc='mean')\n",
    "print(\"Mean ratings based on gender on movies: \")\n",
    "print(mean_ratings)\n",
    "mean_ratings['diff'] = mean_ratings['M'] - mean_ratings['F']\n",
    "sorted_by_diff = mean_ratings.sort_values(by='diff')\n",
    "print(\"Sorting by difference and reversing the list will give the movies which are preffered by women\")\n",
    "print(sorted_by_diff[::-1][:10])"
   ]
  }
 ],
 "metadata": {
  "kernelspec": {
   "display_name": "Python 3",
   "language": "python",
   "name": "python3"
  },
  "language_info": {
   "codemirror_mode": {
    "name": "ipython",
    "version": 3
   },
   "file_extension": ".py",
   "mimetype": "text/x-python",
   "name": "python",
   "nbconvert_exporter": "python",
   "pygments_lexer": "ipython3",
   "version": "3.8.5"
  }
 },
 "nbformat": 4,
 "nbformat_minor": 4
}
