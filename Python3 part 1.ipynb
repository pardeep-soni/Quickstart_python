{
 "cells": [
  {
   "cell_type": "markdown",
   "metadata": {},
   "source": [
    "# 1. Use the “format” function to display the following floating-point values with three decimal digits of precision.\n",
    "# (a) 4580.5034 (b) 0.00000046004 (c) 5000402.000000000006\n"
   ]
  },
  {
   "cell_type": "code",
   "execution_count": 4,
   "metadata": {},
   "outputs": [
    {
     "name": "stdout",
     "output_type": "stream",
     "text": [
      "  4580.503\n",
      "     0.000\n",
      "5000402.000\n"
     ]
    }
   ],
   "source": [
    "Numbers = [4580.5034,0.00000046004,5000402.000000000006]\n",
    "for x in Numbers:\n",
    "    print(\"{:10.3f}\".format(x))"
   ]
  },
  {
   "cell_type": "markdown",
   "metadata": {},
   "source": [
    "# 2. Give a call to print that is provided one string that displays the following address on three separate lines.\n",
    "# CDAC\n",
    "# Old Madras Road\n",
    "# Bangalore\n"
   ]
  },
  {
   "cell_type": "code",
   "execution_count": 2,
   "metadata": {},
   "outputs": [
    {
     "name": "stdout",
     "output_type": "stream",
     "text": [
      "CDAC \n",
      " Old Madras Road \n",
      " Bangalore\n"
     ]
    }
   ],
   "source": [
    "print(\"CDAC \\n Old Madras Road \\n Bangalore\")"
   ]
  },
  {
   "cell_type": "markdown",
   "metadata": {},
   "source": [
    "# 3. What is the value of variables num1 and num2 after the following instructions are executed?\n",
    "# num = 5\n",
    "# k = 5\n",
    "# num1 = num + k * 2\n",
    "# num2 = num + k * 2\n",
    "# Are the values id(num1) and id(num2) equal after the last statement is executed?\n"
   ]
  },
  {
   "cell_type": "code",
   "execution_count": 6,
   "metadata": {},
   "outputs": [
    {
     "name": "stdout",
     "output_type": "stream",
     "text": [
      "15 15\n"
     ]
    },
    {
     "data": {
      "text/plain": [
       "True"
      ]
     },
     "execution_count": 6,
     "metadata": {},
     "output_type": "execute_result"
    }
   ],
   "source": [
    "num = 5\n",
    "k = 5\n",
    "num1 = num + k * 2\n",
    "num2 = num + k * 2\n",
    "print(num1,num2)\n",
    "num1==num2\n"
   ]
  },
  {
   "cell_type": "markdown",
   "metadata": {},
   "source": [
    "# 4. Evaluate the following expressions. (Use operator precedence and associativity).\n",
    "# Let var1 = 10, var2 = 30 and var3 = 2.\n",
    "# (a) var1 - 6 ** 4 * var2 ** 3\t   (b) var1 // var2 / var3      (c) var1 * var2 / 4 // var3\n"
   ]
  },
  {
   "cell_type": "code",
   "execution_count": 7,
   "metadata": {},
   "outputs": [
    {
     "name": "stdout",
     "output_type": "stream",
     "text": [
      "-34991990\n",
      "0.0\n",
      "37.0\n"
     ]
    }
   ],
   "source": [
    "var1 = 10\n",
    "var2 = 30 \n",
    "var3 = 2\n",
    "a=var1 - 6 ** 4 * var2 ** 3\n",
    "print(a)\n",
    "b=var1 // var2 / var3\n",
    "print(b)\n",
    "c=var1 * var2 / 4 // var3\n",
    "print(c)"
   ]
  },
  {
   "cell_type": "markdown",
   "metadata": {},
   "source": [
    "# 5. Write a Python program that prompts the user to enter an upper or lower case letter and displays the corresponding Unicode encoding."
   ]
  },
  {
   "cell_type": "code",
   "execution_count": 8,
   "metadata": {},
   "outputs": [
    {
     "name": "stdout",
     "output_type": "stream",
     "text": [
      "Enter any chracter\n",
      "b''\n"
     ]
    },
    {
     "data": {
      "text/plain": [
       "bytes"
      ]
     },
     "execution_count": 8,
     "metadata": {},
     "output_type": "execute_result"
    }
   ],
   "source": [
    "a = input(\"Enter any chracter\")\n",
    "path = a.encode()\n",
    "print(path)\n",
    "type(path)"
   ]
  },
  {
   "cell_type": "markdown",
   "metadata": {},
   "source": [
    "# 6. Develop and test a program that prompts the user for their age and determines approximately how many breaths and how many heartbeats the person has had in their life. The average respiration (breath) rate of people changes during different stages of development. Use the breath rates given below for use in your program:\n",
    "\n",
    "\t\t     \t\tBreaths per Minute\n",
    "\tInfant \t\t\t\t30–60\n",
    "\t1–4 years \t\t\t20–30\n",
    "\t5–14 years \t\t\t15–25\n",
    "\tAdults\t\t\t\t12–20\n"
   ]
  },
  {
   "cell_type": "code",
   "execution_count": 12,
   "metadata": {},
   "outputs": [
    {
     "name": "stdout",
     "output_type": "stream",
     "text": [
      "Enter Your Age:5\n",
      "Average Breaths Per year is  52560000.0\n",
      "Average heartbeat Per year is  177390000.0\n"
     ]
    }
   ],
   "source": [
    "age = int(input(\"Enter Your Age:\"))\n",
    "bpm_infant = (30+20)/2\n",
    "bpm_1_to_4_years = (20+30)/2\n",
    "bpm_5_to_14_years = (15+25)/2\n",
    "bmp_adults = (12+20)/2\n",
    "\n",
    "min_year = 365*60*24\n",
    "heart_rate_per_year = 67.5*min_year\n",
    "\n",
    "if (age<=1):\n",
    "  print(\"Average Breaths Per Year is\",bmp_infant*age*min_year)\n",
    "  print(\"Average HeartBeat Per Year is\",age*heart_rate_per_year)\n",
    "elif (age>1 and age<=4):\n",
    "  print(\"Average Breaths Per year is \",bpm_1_to_4_years*age*min_year)\n",
    "  print(\"Average heartbeat Per year is \",age*heart_rate_per_year)\n",
    "elif (age>4 and age<=14):\n",
    "  print(\"Average Breaths Per year is \",bpm_5_to_14_years*age*min_year)\n",
    "  print(\"Average heartbeat Per year is \",age*heart_rate_per_year)\n",
    "else:\n",
    "  print(\"Average Breaths Per Year is\",bmp_adults*age*min_year)\n",
    "  print(\"Average HeartBeat Per Year is\",age*heart_rate_per_year)\n"
   ]
  },
  {
   "cell_type": "markdown",
   "metadata": {},
   "source": [
    "# 7. Write a program to find out the largest of three numbers"
   ]
  },
  {
   "cell_type": "code",
   "execution_count": 14,
   "metadata": {},
   "outputs": [
    {
     "name": "stdout",
     "output_type": "stream",
     "text": [
      "30\n"
     ]
    }
   ],
   "source": [
    "List = [10,20,30]\n",
    "print(max(10,20,30))"
   ]
  },
  {
   "cell_type": "markdown",
   "metadata": {},
   "source": [
    "# 8. Write program to find out the second largest of three numbers"
   ]
  },
  {
   "cell_type": "code",
   "execution_count": 11,
   "metadata": {},
   "outputs": [
    {
     "name": "stdout",
     "output_type": "stream",
     "text": [
      "20\n"
     ]
    }
   ],
   "source": [
    "List = [10,20,30]\n",
    "List.sort()\n",
    "print(List[-2])"
   ]
  }
 ],
 "metadata": {
  "kernelspec": {
   "display_name": "Python 3",
   "language": "python",
   "name": "python3"
  },
  "language_info": {
   "codemirror_mode": {
    "name": "ipython",
    "version": 3
   },
   "file_extension": ".py",
   "mimetype": "text/x-python",
   "name": "python",
   "nbconvert_exporter": "python",
   "pygments_lexer": "ipython3",
   "version": "3.8.5"
  }
 },
 "nbformat": 4,
 "nbformat_minor": 4
}
