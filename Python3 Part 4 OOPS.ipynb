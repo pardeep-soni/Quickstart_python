{
 "cells": [
  {
   "cell_type": "markdown",
   "metadata": {},
   "source": [
    "# 1.\tDefine a class named Rectangle which can be constructed by a length and width. The Rectangle class has a method which can compute the area"
   ]
  },
  {
   "cell_type": "code",
   "execution_count": 2,
   "metadata": {},
   "outputs": [
    {
     "name": "stdout",
     "output_type": "stream",
     "text": [
      "Enter the lenght of rectagle: 5\n",
      "enter the width of rectangle: 4\n",
      "area of rectangle is : 20\n"
     ]
    }
   ],
   "source": [
    "class rectangle:\n",
    "    def __init__(self,lenght,width):\n",
    "        self.lenght=lenght\n",
    "        self.width=width\n",
    "    def area(self):\n",
    "        return (self.lenght*self.width)\n",
    "l=int(input(\"Enter the lenght of rectagle: \"))\n",
    "w=int(input(\"enter the width of rectangle: \"))\n",
    "r1=rectangle(l,w)\n",
    "print(\"area of rectangle is :\",r1.area())"
   ]
  },
  {
   "cell_type": "markdown",
   "metadata": {},
   "source": [
    "# 2. Define a class named Shape and its subclass Square. The Square class has an init function which takes a length as argument. Both classes have an area function which can print the area of the shape where Shape's area is 0 by default.\n"
   ]
  },
  {
   "cell_type": "code",
   "execution_count": 5,
   "metadata": {},
   "outputs": [
    {
     "name": "stdout",
     "output_type": "stream",
     "text": [
      "by default area of square is:  0\n",
      "area of square is :  25\n"
     ]
    }
   ],
   "source": [
    "class shape:\n",
    "    def area(self):\n",
    "        return 0\n",
    "class square(shape):\n",
    "    def __init__(self,length):\n",
    "        self.length=length\n",
    "    def area(self):\n",
    "        return self.length*self.length\n",
    "s1=shape()\n",
    "square1=square(5)\n",
    "print(\"by default area of square is: \",s1.area())\n",
    "print(\"area of square is : \",square1.area())"
   ]
  },
  {
   "cell_type": "markdown",
   "metadata": {},
   "source": [
    "# 3. Write a program to implement a simple calculator that can add, subtract, multiply and divide two integers. The program should handle two kinds of exceptions, ZeroDivisionError and ValueError.\n"
   ]
  },
  {
   "cell_type": "code",
   "execution_count": 10,
   "metadata": {},
   "outputs": [
    {
     "name": "stdout",
     "output_type": "stream",
     "text": [
      "enter first number : 5\n",
      "enter second number :0\n",
      "Enter Your operation you want to perfrom on those numbers4\n",
      "A number can not be divided by zero :\n",
      "  division by zero\n"
     ]
    }
   ],
   "source": [
    "num1=int(input(\"enter first number : \"))\n",
    "num2=int(input(\"enter second number :\"))\n",
    "try:\n",
    "    def add():\n",
    "        return num1 + num2\n",
    "    def subtract():\n",
    "        return num1 - num2\n",
    "    def multiply():\n",
    "        return num1*num2\n",
    "    def division():\n",
    "        return num1/num2\n",
    "    def operation(choice):\n",
    "        switcher = {1:add(), 2:subtract(), 3:multiply(), 4:division()}\n",
    "        return switcher.get(choice,\"invalid operation\")\n",
    "    choice = int(input(\"Enter Your operation you want to perfrom on those numbers\"))\n",
    "    output = operation(choice)\n",
    "    print(output)\n",
    "except ZeroDivisionError as DividedbyZero:\n",
    "    print(\"A number can not be divided by zero :\\n \",DividedbyZero)\n",
    "except ValueError as Argument:\n",
    "    print(\"Please enter a valid input : \\n\",Argument)\n",
    "else:\n",
    "    print(\"operation sucessfully completed\")"
   ]
  }
 ],
 "metadata": {
  "kernelspec": {
   "display_name": "Python 3",
   "language": "python",
   "name": "python3"
  },
  "language_info": {
   "codemirror_mode": {
    "name": "ipython",
    "version": 3
   },
   "file_extension": ".py",
   "mimetype": "text/x-python",
   "name": "python",
   "nbconvert_exporter": "python",
   "pygments_lexer": "ipython3",
   "version": "3.8.5"
  }
 },
 "nbformat": 4,
 "nbformat_minor": 4
}
